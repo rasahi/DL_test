{
  "nbformat": 4,
  "nbformat_minor": 0,
  "metadata": {
    "colab": {
      "provenance": [],
      "gpuType": "T4",
      "history_visible": true,
      "authorship_tag": "ABX9TyO2qS576tiivTvDA8aN7QW7",
      "include_colab_link": true
    },
    "kernelspec": {
      "name": "python3",
      "display_name": "Python 3"
    },
    "language_info": {
      "name": "python"
    },
    "accelerator": "GPU"
  },
  "cells": [
    {
      "cell_type": "markdown",
      "metadata": {
        "id": "view-in-github",
        "colab_type": "text"
      },
      "source": [
        "<a href=\"https://colab.research.google.com/github/rasahi/DL_test/blob/main/%E4%BA%BA%E5%B7%A5%E7%9F%A5%E8%83%BD%E6%8A%80%E8%A1%93%E3%81%AE%E6%95%99%E7%A7%91%E6%9B%B8.ipynb\" target=\"_parent\"><img src=\"https://colab.research.google.com/assets/colab-badge.svg\" alt=\"Open In Colab\"/></a>"
      ]
    },
    {
      "cell_type": "code",
      "execution_count": null,
      "metadata": {
        "colab": {
          "base_uri": "https://localhost:8080/"
        },
        "id": "5_RyVnm8W-r6",
        "outputId": "c9440fbb-e59d-440e-e18c-b4d1aa7633cf"
      },
      "outputs": [
        {
          "output_type": "stream",
          "name": "stdout",
          "text": [
            "hello world!\n"
          ]
        }
      ],
      "source": [
        "print(\"hello world!\")"
      ]
    },
    {
      "cell_type": "markdown",
      "source": [
        "人工知能技術の教科書：Chapter2"
      ],
      "metadata": {
        "id": "R7Z65K3CbvBA"
      }
    },
    {
      "cell_type": "code",
      "source": [
        "a=5;b=3"
      ],
      "metadata": {
        "id": "thZs5JnaXQ0L"
      },
      "execution_count": 3,
      "outputs": []
    },
    {
      "cell_type": "code",
      "source": [],
      "metadata": {
        "id": "KW0UHTWacc46"
      },
      "execution_count": null,
      "outputs": []
    }
  ]
}